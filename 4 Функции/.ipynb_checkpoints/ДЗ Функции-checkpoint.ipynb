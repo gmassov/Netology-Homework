{
 "cells": [
  {
   "cell_type": "markdown",
   "metadata": {},
   "source": [
    "Вы работаете секретарем и вам постоянно приходят различные документы. Вы должны быть очень внимательны, чтобы не потерять ни один документ. Каталог документов хранится в следующем виде:"
   ]
  },
  {
   "cell_type": "code",
   "execution_count": 1,
   "metadata": {},
   "outputs": [],
   "source": [
    "documents = [\n",
    "    {'type': 'passport', 'number': '2207 876234', 'name': 'Василий Гупкин'},\n",
    "    {'type': 'invoice', 'number': '11-2', 'name': 'Геннадий Покемонов'},\n",
    "    {'type': 'insurance', 'number': '10006', 'name': 'Аристарх Павлов'}\n",
    "]"
   ]
  },
  {
   "cell_type": "markdown",
   "metadata": {},
   "source": [
    "Перечень полок, на которых находятся документы хранится в следующем виде:"
   ]
  },
  {
   "cell_type": "code",
   "execution_count": 2,
   "metadata": {},
   "outputs": [],
   "source": [
    "directories = {\n",
    "    '1': ['2207 876234', '11-2'],\n",
    "    '2': ['10006'],\n",
    "    '3': []\n",
    "}"
   ]
  },
  {
   "cell_type": "markdown",
   "metadata": {},
   "source": [
    "Необходимо реализовать пользовательские команды (внимание! это не название функций, которые должны быть выразительными, а команды, которые вводит пользователь, чтобы получить необходимый результат):\n",
    "\n",
    "p – people – команда, которая спросит номер документа и выведет имя человека, которому он принадлежит;\n",
    "s – shelf – команда, которая спросит номер документа и выведет номер полки, на которой он находится\n",
    "Правильно обработайте ситуации, когда пользователь будет вводить несуществующий документ.\n",
    "l – list – команда, которая выведет список всех документов в формате\n",
    "passport \"2207 876234\" \"Василий Гупкин\"\n",
    "as – add shelf – команда, которая спросит номер новой полки и добавит ее в перечень. Предусмотрите случай, когда пользователь добавляет полку, которая уже существует.\n",
    "d – delete – команда, которая спросит номер документа и удалит его из каталога и из перечня полок. Предусмотрите сценарий, когда пользователь вводит несуществующий документ;\n",
    "m – move – команда, которая спросит номер документа и целевую полку и переместит его с текущей полки на целевую. Корректно обработайте кейсы, когда пользователь пытается переместить несуществующий документ или переместить документ на несуществующую полку;\n",
    "a – add – команда, которая добавит новый документ в каталог и в перечень полок, спросив его номер, тип, имя владельца и номер полки, на котором он будет храниться. Корректно обработайте ситуацию, когда пользователь будет пытаться добавить документ на несуществующую полку."
   ]
  },
  {
   "cell_type": "code",
   "execution_count": 31,
   "metadata": {},
   "outputs": [
    {
     "name": "stdout",
     "output_type": "stream",
     "text": [
      "passport \"2207 876234\" 'Василий Гупкин'\n",
      "invoice \"11-2\" 'Геннадий Покемонов'\n",
      "insurance \"10006\" 'Аристарх Павлов'\n",
      "Unknown command\n"
     ]
    }
   ],
   "source": [
    "# p - people\n",
    "def people(doc_number):\n",
    "    for x in documents:\n",
    "        if x['number'] == doc_number:\n",
    "            return x['name']\n",
    "        \n",
    "# s - shelf\n",
    "def shelf():\n",
    "    user_input2=input('Введите номер документа')\n",
    "    shelf_number='Документ с таким номером отсутствует'\n",
    "    for directorie,number in directories.items():\n",
    "        for doc in number:\n",
    "            if user_input2==doc:\n",
    "                shelf_number=directorie\n",
    "        break\n",
    "    return print(shelf_number)    \n",
    "\n",
    "# l – list\n",
    "def doclist():\n",
    "    for doc in documents:\n",
    "        print(f'{doc[\"type\"]} \\\"{doc[\"number\"]}\\\" \\'{doc[\"name\"]}\\'')\n",
    "    return\n",
    "doclist()\n",
    "\n",
    "# add shelf\n",
    "def add_shelf():\n",
    "    user_input3=input('Введите номер новой полки ')\n",
    "    if user_input3 in directories:\n",
    "            print('Полка с таким номером уже есть')\n",
    "    else:\n",
    "        directories[user_input3]=[]\n",
    "        print(f'полка {user_input3} добавлена')\n",
    "    return\n",
    "\n",
    "# d – delet\n",
    "def delete():\n",
    "    user_input3=input('Введите номер документа')\n",
    "    text='Документ с таким номером отсутствует'\n",
    "    for document in documents:\n",
    "        if document.get('number')==user_input3:\n",
    "            text='Документ удален'\n",
    "            documents.remove(document)\n",
    "            for directorie,number in directories.items():\n",
    "                for doc in number:\n",
    "                    if user_input3==doc:\n",
    "                        number.remove(doc)\n",
    "    return print(text)\n",
    "\n",
    "# m – move\n",
    "def move():\n",
    "    user_input_number=input('Введите номер документа, который необходимо переместить: ')\n",
    "    user_input_new_shelf=input('Введите номер полки, на которую необходимо переместить документ: ')\n",
    "    text=' '\n",
    "    if user_input_new_shelf not in directories.keys():\n",
    "        print('нет введенной полки')\n",
    "    else:\n",
    "        text='нет такого докумета'\n",
    "        for directorie,number in directories.items():\n",
    "            for doc in number:\n",
    "                if user_input_number==doc:\n",
    "                    if user_input_new_shelf in directories.keys():\n",
    "                        for shelfs_item in directories.items():\n",
    "                            for shelfs_item_info in shelfs_item[1]:\n",
    "                                if user_input_number==shelfs_item_info:\n",
    "                                    shelfs_item[1].remove(shelfs_item_info)\n",
    "                        for shelf_item in directories.items():\n",
    "                            if shelf_item[0]==user_input_new_shelf:\n",
    "                                shelf_item[1].append(user_input_number)\n",
    "                                text=' '\n",
    "\n",
    "# a - add\n",
    "def add(): \n",
    "    doc_type = input('Введите тип документа: ')\n",
    "    doc_number = input('Введите номер нового документа: ')   \n",
    "    shelf_num = input('Введите номер полки: ')\n",
    "    doc_name = input('Введите имя владельца: ')\n",
    "    if shelf_num not in directories.keys():\n",
    "        print('нет введенной полки, есть полки:')\n",
    "        for key in directories:\n",
    "            print(key)\n",
    "        return \n",
    "    for doc in directories.items():\n",
    "        if doc[0] == shelf_num:\n",
    "               doc[1].append(doc_number)          \n",
    "    print(directories)\n",
    "    documents.append({'type': doc_type, 'number': doc_number, 'name': doc_name})\n",
    "    print(documents)\n"
   ]
  }
 ],
 "metadata": {
  "kernelspec": {
   "display_name": "Python 3",
   "language": "python",
   "name": "python3"
  },
  "language_info": {
   "codemirror_mode": {
    "name": "ipython",
    "version": 3
   },
   "file_extension": ".py",
   "mimetype": "text/x-python",
   "name": "python",
   "nbconvert_exporter": "python",
   "pygments_lexer": "ipython3",
   "version": "3.7.6"
  }
 },
 "nbformat": 4,
 "nbformat_minor": 4
}
