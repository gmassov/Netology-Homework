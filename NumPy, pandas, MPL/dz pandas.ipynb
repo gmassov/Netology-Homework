{
 "cells": [
  {
   "cell_type": "code",
   "execution_count": 2,
   "metadata": {},
   "outputs": [],
   "source": [
    "import pandas as pd"
   ]
  },
  {
   "cell_type": "markdown",
   "metadata": {},
   "source": [
    "# Задание 1\n"
   ]
  },
  {
   "cell_type": "code",
   "execution_count": 9,
   "metadata": {},
   "outputs": [
    {
     "data": {
      "text/plain": [
       "Shawshank Redemption, The (1994)    153\n",
       "Name: title, dtype: int64"
      ]
     },
     "execution_count": 9,
     "metadata": {},
     "output_type": "execute_result"
    }
   ],
   "source": [
    "rating = pd.read_csv('ratings.csv').merge(pd.read_csv('movies.csv'), on = 'movieId')\n",
    "rating = rating[['title', 'rating']]\n",
    "rating = rating[rating.rating == 5.0]\n",
    "rating['title'].value_counts().head(1)"
   ]
  },
  {
   "cell_type": "markdown",
   "metadata": {},
   "source": [
    "# Задание 2"
   ]
  },
  {
   "cell_type": "code",
   "execution_count": 10,
   "metadata": {},
   "outputs": [
    {
     "data": {
      "text/plain": [
       "240481.0"
      ]
     },
     "execution_count": 10,
     "metadata": {},
     "output_type": "execute_result"
    }
   ],
   "source": [
    "baltia = pd.read_csv('power.csv')\n",
    "baltia = baltia[(baltia.country == 'Estonia') | (baltia.country == 'Lithuania') | (baltia.country == 'Latvia')]\n",
    "baltia = baltia[(baltia.category == 4) | (baltia.category == 12) | (baltia.category == 21)]\n",
    "baltia = baltia[(baltia.year >= 2005) & (baltia.year <= 2010)]\n",
    "baltia.quantity.sum()"
   ]
  },
  {
   "cell_type": "markdown",
   "metadata": {},
   "source": [
    "# Задание 3"
   ]
  },
  {
   "cell_type": "code",
   "execution_count": 14,
   "metadata": {},
   "outputs": [
    {
     "data": {
      "text/html": [
       "<div>\n",
       "<style scoped>\n",
       "    .dataframe tbody tr th:only-of-type {\n",
       "        vertical-align: middle;\n",
       "    }\n",
       "\n",
       "    .dataframe tbody tr th {\n",
       "        vertical-align: top;\n",
       "    }\n",
       "\n",
       "    .dataframe thead th {\n",
       "        text-align: right;\n",
       "    }\n",
       "</style>\n",
       "<table border=\"1\" class=\"dataframe\">\n",
       "  <thead>\n",
       "    <tr style=\"text-align: right;\">\n",
       "      <th></th>\n",
       "      <th>Имя</th>\n",
       "      <th>Unnamed: 1</th>\n",
       "      <th>%</th>\n",
       "      <th>курс</th>\n",
       "      <th>Дата</th>\n",
       "    </tr>\n",
       "  </thead>\n",
       "  <tbody>\n",
       "    <tr>\n",
       "      <th>0</th>\n",
       "      <td>EUR/RUB</td>\n",
       "      <td>NaN</td>\n",
       "      <td>-3656</td>\n",
       "      <td>899654</td>\n",
       "      <td>23.02.2021 20:43:00</td>\n",
       "    </tr>\n",
       "    <tr>\n",
       "      <th>1</th>\n",
       "      <td>USD/RUB</td>\n",
       "      <td>NaN</td>\n",
       "      <td>-2127</td>\n",
       "      <td>740852</td>\n",
       "      <td>23.02.2021 20:44:00</td>\n",
       "    </tr>\n",
       "    <tr>\n",
       "      <th>2</th>\n",
       "      <td>CHF/RUB</td>\n",
       "      <td>NaN</td>\n",
       "      <td>-10413</td>\n",
       "      <td>81999</td>\n",
       "      <td>23.02.2021 20:44:00</td>\n",
       "    </tr>\n",
       "    <tr>\n",
       "      <th>3</th>\n",
       "      <td>JPY/RUB</td>\n",
       "      <td>NaN</td>\n",
       "      <td>-378</td>\n",
       "      <td>704</td>\n",
       "      <td>23.02.2021 20:44:00</td>\n",
       "    </tr>\n",
       "    <tr>\n",
       "      <th>4</th>\n",
       "      <td>GBP/RUB</td>\n",
       "      <td>NaN</td>\n",
       "      <td>-134</td>\n",
       "      <td>1044254</td>\n",
       "      <td>23.02.2021 20:44:00</td>\n",
       "    </tr>\n",
       "    <tr>\n",
       "      <th>5</th>\n",
       "      <td>NOK/RUB</td>\n",
       "      <td>NaN</td>\n",
       "      <td>-2495</td>\n",
       "      <td>87202</td>\n",
       "      <td>23.02.2021 20:43:00</td>\n",
       "    </tr>\n",
       "    <tr>\n",
       "      <th>6</th>\n",
       "      <td>AUD/RUB</td>\n",
       "      <td>NaN</td>\n",
       "      <td>-3506</td>\n",
       "      <td>585509</td>\n",
       "      <td>23.02.2021 20:43:00</td>\n",
       "    </tr>\n",
       "    <tr>\n",
       "      <th>7</th>\n",
       "      <td>NZD/RUB</td>\n",
       "      <td>NaN</td>\n",
       "      <td>-1438</td>\n",
       "      <td>543131</td>\n",
       "      <td>23.02.2021 20:43:00</td>\n",
       "    </tr>\n",
       "    <tr>\n",
       "      <th>8</th>\n",
       "      <td>TRY/RUB</td>\n",
       "      <td>NaN</td>\n",
       "      <td>-10137</td>\n",
       "      <td>104626</td>\n",
       "      <td>23.02.2021 20:43:00</td>\n",
       "    </tr>\n",
       "  </tbody>\n",
       "</table>\n",
       "</div>"
      ],
      "text/plain": [
       "       Имя  Unnamed: 1      %     курс                 Дата\n",
       "0  EUR/RUB         NaN  -3656   899654  23.02.2021 20:43:00\n",
       "1  USD/RUB         NaN  -2127   740852  23.02.2021 20:44:00\n",
       "2  CHF/RUB         NaN -10413    81999  23.02.2021 20:44:00\n",
       "3  JPY/RUB         NaN   -378      704  23.02.2021 20:44:00\n",
       "4  GBP/RUB         NaN   -134  1044254  23.02.2021 20:44:00\n",
       "5  NOK/RUB         NaN  -2495    87202  23.02.2021 20:43:00\n",
       "6  AUD/RUB         NaN  -3506   585509  23.02.2021 20:43:00\n",
       "7  NZD/RUB         NaN  -1438   543131  23.02.2021 20:43:00\n",
       "8  TRY/RUB         NaN -10137   104626  23.02.2021 20:43:00"
      ]
     },
     "execution_count": 14,
     "metadata": {},
     "output_type": "execute_result"
    }
   ],
   "source": [
    "page_url = 'https://www.finanz.ru/valyuty/usd-rub'\n",
    "table = pd.read_html(page_url, attrs = {'class': 'news_table'}, encoding='utf-8')\n",
    "\n",
    "df = pd.DataFrame(table[1])\n",
    "\n",
    "df"
   ]
  },
  {
   "cell_type": "code",
   "execution_count": null,
   "metadata": {},
   "outputs": [],
   "source": []
  }
 ],
 "metadata": {
  "kernelspec": {
   "display_name": "Python 3",
   "language": "python",
   "name": "python3"
  },
  "language_info": {
   "codemirror_mode": {
    "name": "ipython",
    "version": 3
   },
   "file_extension": ".py",
   "mimetype": "text/x-python",
   "name": "python",
   "nbconvert_exporter": "python",
   "pygments_lexer": "ipython3",
   "version": "3.7.6"
  }
 },
 "nbformat": 4,
 "nbformat_minor": 4
}
