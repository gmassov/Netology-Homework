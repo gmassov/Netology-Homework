{
 "cells": [
  {
   "cell_type": "markdown",
   "metadata": {},
   "source": [
    "# Задание 1"
   ]
  },
  {
   "cell_type": "code",
   "execution_count": 20,
   "metadata": {},
   "outputs": [],
   "source": [
    "import requests\n",
    "from bs4 import BeautifulSoup\n",
    "import pandas as pd\n",
    "import json\n",
    "import datetime as dt\n",
    "import time"
   ]
  },
  {
   "cell_type": "code",
   "execution_count": 23,
   "metadata": {},
   "outputs": [
    {
     "data": {
      "text/html": [
       "<div>\n",
       "<style scoped>\n",
       "    .dataframe tbody tr th:only-of-type {\n",
       "        vertical-align: middle;\n",
       "    }\n",
       "\n",
       "    .dataframe tbody tr th {\n",
       "        vertical-align: top;\n",
       "    }\n",
       "\n",
       "    .dataframe thead th {\n",
       "        text-align: right;\n",
       "    }\n",
       "</style>\n",
       "<table border=\"1\" class=\"dataframe\">\n",
       "  <thead>\n",
       "    <tr style=\"text-align: right;\">\n",
       "      <th></th>\n",
       "      <th>Дата</th>\n",
       "      <th>Название</th>\n",
       "      <th>Ссылка</th>\n",
       "    </tr>\n",
       "  </thead>\n",
       "  <tbody>\n",
       "    <tr>\n",
       "      <th>0</th>\n",
       "      <td>[сегодня в 18:11]</td>\n",
       "      <td>\\nНемного про трекинг и сервис переходов Admit...</td>\n",
       "      <td>https://habr.com/ru/users/p-tracking/</td>\n",
       "    </tr>\n",
       "  </tbody>\n",
       "</table>\n",
       "</div>"
      ],
      "text/plain": [
       "                Дата                                           Название  \\\n",
       "0  [сегодня в 18:11]  \\nНемного про трекинг и сервис переходов Admit...   \n",
       "\n",
       "                                  Ссылка  \n",
       "0  https://habr.com/ru/users/p-tracking/  "
      ]
     },
     "execution_count": 23,
     "metadata": {},
     "output_type": "execute_result"
    }
   ],
   "source": [
    "URL = 'https://habr.com/ru/all/'\n",
    "KEYWORDS = ['python', 'парсинг']\n",
    "\n",
    "rez_py = requests.get(URL)\n",
    "soup_py = BeautifulSoup(rez_py.text, 'html.parser')\n",
    "\n",
    "articles = soup_py.find_all('article', class_ = \"post post_preview\")\n",
    "\n",
    "article_list = []\n",
    "KEYWORDS = ['python', 'парсинг']\n",
    "for el in articles:\n",
    "    if KEYWORDS[0] in str(el) or KEYWORDS[1] in str(el):\n",
    "        article_list.append(el)\n",
    "\n",
    "\n",
    "article_date = list(map(lambda x: x.find('span', class_ = \"post__time\"), article_list))\n",
    "article_title = list(map(lambda x: x.find('h2', class_ = \"post__title\").get_text(), article_list))\n",
    "article_link = list(map(lambda x: x.find('a').get('href'), article_list))\n",
    "\n",
    "df = pd.DataFrame({'Дата': article_date, 'Название':article_title, 'Ссылка':article_link })\n",
    "\n",
    "df"
   ]
  },
  {
   "cell_type": "markdown",
   "metadata": {},
   "source": [
    "# Задание 2 "
   ]
  },
  {
   "cell_type": "code",
   "execution_count": 33,
   "metadata": {},
   "outputs": [],
   "source": [
    "EMAIL = ['g.massov@gmail.com']\n"
   ]
  },
  {
   "cell_type": "code",
   "execution_count": 34,
   "metadata": {},
   "outputs": [],
   "source": [
    "def check_breaches(emails):\n",
    "    breaches = pd.DataFrame()\n",
    "    URL = 'https://identityprotection.avast.com/v1/web/query/site-breaches/unauthorized-data'\n",
    "    headers = {'Vaar-Version': '0', 'Vaar-Header-App-Product': 'hackcheck-web-avast'}\n",
    "    for e in EMAIL:\n",
    "        req = requests.post(URL, headers=headers,json={\"emailAddresses\":[e]})\n",
    "        time.sleep(0.3)\n",
    "        for v in req.json()['breaches'].values():\n",
    "            breaches_dict = {'e-mail': e, 'date': v['publishDate'], 'source': v['site'], 'description': v['description']}\n",
    "            breaches = pd.concat([breaches, pd.DataFrame([breaches_dict])])\n",
    "    return breaches"
   ]
  },
  {
   "cell_type": "code",
   "execution_count": 35,
   "metadata": {},
   "outputs": [
    {
     "data": {
      "text/html": [
       "<div>\n",
       "<style scoped>\n",
       "    .dataframe tbody tr th:only-of-type {\n",
       "        vertical-align: middle;\n",
       "    }\n",
       "\n",
       "    .dataframe tbody tr th {\n",
       "        vertical-align: top;\n",
       "    }\n",
       "\n",
       "    .dataframe thead th {\n",
       "        text-align: right;\n",
       "    }\n",
       "</style>\n",
       "<table border=\"1\" class=\"dataframe\">\n",
       "  <thead>\n",
       "    <tr style=\"text-align: right;\">\n",
       "      <th></th>\n",
       "      <th>e-mail</th>\n",
       "      <th>date</th>\n",
       "      <th>source</th>\n",
       "      <th>description</th>\n",
       "    </tr>\n",
       "  </thead>\n",
       "  <tbody>\n",
       "    <tr>\n",
       "      <th>0</th>\n",
       "      <td>g.massov@gmail.com</td>\n",
       "      <td>2019-06-13T00:00:00Z</td>\n",
       "      <td>canva.com</td>\n",
       "      <td>In May 2019, graphic-design site Canva's datab...</td>\n",
       "    </tr>\n",
       "  </tbody>\n",
       "</table>\n",
       "</div>"
      ],
      "text/plain": [
       "               e-mail                  date     source  \\\n",
       "0  g.massov@gmail.com  2019-06-13T00:00:00Z  canva.com   \n",
       "\n",
       "                                         description  \n",
       "0  In May 2019, graphic-design site Canva's datab...  "
      ]
     },
     "execution_count": 35,
     "metadata": {},
     "output_type": "execute_result"
    }
   ],
   "source": [
    "check_breaches(EMAIL)"
   ]
  },
  {
   "cell_type": "code",
   "execution_count": null,
   "metadata": {},
   "outputs": [],
   "source": []
  },
  {
   "cell_type": "code",
   "execution_count": null,
   "metadata": {},
   "outputs": [],
   "source": []
  }
 ],
 "metadata": {
  "kernelspec": {
   "display_name": "Python 3",
   "language": "python",
   "name": "python3"
  },
  "language_info": {
   "codemirror_mode": {
    "name": "ipython",
    "version": 3
   },
   "file_extension": ".py",
   "mimetype": "text/x-python",
   "name": "python",
   "nbconvert_exporter": "python",
   "pygments_lexer": "ipython3",
   "version": "3.7.6"
  }
 },
 "nbformat": 4,
 "nbformat_minor": 4
}
