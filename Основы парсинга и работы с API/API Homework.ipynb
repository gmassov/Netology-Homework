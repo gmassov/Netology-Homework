{
 "cells": [
  {
   "cell_type": "markdown",
   "metadata": {},
   "source": [
    "# Задание 1"
   ]
  },
  {
   "cell_type": "code",
   "execution_count": 4,
   "metadata": {},
   "outputs": [],
   "source": [
    "import requests\n",
    "from bs4 import BeautifulSoup\n",
    "import pandas as pd\n",
    "import json\n",
    "import datetime as dt\n",
    "import time"
   ]
  },
  {
   "cell_type": "code",
   "execution_count": 12,
   "metadata": {},
   "outputs": [],
   "source": [
    "KEYWORDS = ['python', 'парсинг', 'API', 'программирование', 'API']\n",
    "\n",
    "def get_preview_by_keywords (words, URL = 'https://habr.com/ru/all/'):\n",
    "    res = requests.get(URL)\n",
    "    soup = BeautifulSoup(res.text, 'html.parser')\n",
    "    news_blocks = soup.find_all('article', class_ = 'post post_preview')\n",
    "    \n",
    "    preview = pd.DataFrame()\n",
    "\n",
    "    for news_block in news_blocks:\n",
    "        for key in KEYWORDS:\n",
    "            if key.lower() in news_block.text.lower():\n",
    "                date = news_block.find('span', class_ = 'post__time').text\n",
    "                title = news_block.find('h2', class_ = 'post__title').text\n",
    "                link = news_block.find('a', class_ = 'post__title_link').get('href')\n",
    "                all_inf = {'date': date, 'title': title.strip(), 'link': link}\n",
    "                preview = pd.concat([preview, pd.DataFrame([all_inf])])\n",
    "          \n",
    "    preview = preview.drop_duplicates()\n",
    "    \n",
    "    return preview\n"
   ]
  },
  {
   "cell_type": "code",
   "execution_count": 13,
   "metadata": {},
   "outputs": [
    {
     "data": {
      "text/html": [
       "<div>\n",
       "<style scoped>\n",
       "    .dataframe tbody tr th:only-of-type {\n",
       "        vertical-align: middle;\n",
       "    }\n",
       "\n",
       "    .dataframe tbody tr th {\n",
       "        vertical-align: top;\n",
       "    }\n",
       "\n",
       "    .dataframe thead th {\n",
       "        text-align: right;\n",
       "    }\n",
       "</style>\n",
       "<table border=\"1\" class=\"dataframe\">\n",
       "  <thead>\n",
       "    <tr style=\"text-align: right;\">\n",
       "      <th></th>\n",
       "      <th>date</th>\n",
       "      <th>title</th>\n",
       "      <th>link</th>\n",
       "    </tr>\n",
       "  </thead>\n",
       "  <tbody>\n",
       "    <tr>\n",
       "      <th>0</th>\n",
       "      <td>сегодня в 11:02</td>\n",
       "      <td>От версии 8 к 8.1: новый виток развития PHP</td>\n",
       "      <td>https://habr.com/ru/company/macloud/blog/554008/</td>\n",
       "    </tr>\n",
       "    <tr>\n",
       "      <th>0</th>\n",
       "      <td>вчера в 21:06</td>\n",
       "      <td>Разделяй и властвуй — Использование FSM в Unity</td>\n",
       "      <td>https://habr.com/ru/post/554060/</td>\n",
       "    </tr>\n",
       "  </tbody>\n",
       "</table>\n",
       "</div>"
      ],
      "text/plain": [
       "              date                                            title  \\\n",
       "0  сегодня в 11:02      От версии 8 к 8.1: новый виток развития PHP   \n",
       "0    вчера в 21:06  Разделяй и властвуй — Использование FSM в Unity   \n",
       "\n",
       "                                               link  \n",
       "0  https://habr.com/ru/company/macloud/blog/554008/  \n",
       "0                  https://habr.com/ru/post/554060/  "
      ]
     },
     "execution_count": 13,
     "metadata": {},
     "output_type": "execute_result"
    }
   ],
   "source": [
    "get_preview_by_keywords (KEYWORDS)"
   ]
  },
  {
   "cell_type": "markdown",
   "metadata": {},
   "source": [
    "# Задание 2 "
   ]
  },
  {
   "cell_type": "code",
   "execution_count": 33,
   "metadata": {},
   "outputs": [],
   "source": [
    "EMAIL = ['g.massov@gmail.com']\n"
   ]
  },
  {
   "cell_type": "code",
   "execution_count": 1,
   "metadata": {},
   "outputs": [],
   "source": [
    "def check_breaches(emails):\n",
    "    breaches = pd.DataFrame()\n",
    "    URL = 'https://identityprotection.avast.com/v1/web/query/site-breaches/unauthorized-data'\n",
    "    headers = {'Vaar-Version': '0', 'Vaar-Header-App-Product': 'hackcheck-web-avast'}\n",
    "    for e in EMAIL:\n",
    "        req = requests.post(URL, headers=headers,json={\"emailAddresses\":[e]})\n",
    "        time.sleep(0.3)\n",
    "        for v in req.json()['breaches'].values():\n",
    "            breaches_dict = {'e-mail': e, 'date': v['publishDate'], 'source': v['site'], 'description': v['description']}\n",
    "            breaches = pd.concat([breaches, pd.DataFrame([breaches_dict])])\n",
    "    return breaches"
   ]
  },
  {
   "cell_type": "code",
   "execution_count": 35,
   "metadata": {},
   "outputs": [
    {
     "data": {
      "text/html": [
       "<div>\n",
       "<style scoped>\n",
       "    .dataframe tbody tr th:only-of-type {\n",
       "        vertical-align: middle;\n",
       "    }\n",
       "\n",
       "    .dataframe tbody tr th {\n",
       "        vertical-align: top;\n",
       "    }\n",
       "\n",
       "    .dataframe thead th {\n",
       "        text-align: right;\n",
       "    }\n",
       "</style>\n",
       "<table border=\"1\" class=\"dataframe\">\n",
       "  <thead>\n",
       "    <tr style=\"text-align: right;\">\n",
       "      <th></th>\n",
       "      <th>e-mail</th>\n",
       "      <th>date</th>\n",
       "      <th>source</th>\n",
       "      <th>description</th>\n",
       "    </tr>\n",
       "  </thead>\n",
       "  <tbody>\n",
       "    <tr>\n",
       "      <th>0</th>\n",
       "      <td>g.massov@gmail.com</td>\n",
       "      <td>2019-06-13T00:00:00Z</td>\n",
       "      <td>canva.com</td>\n",
       "      <td>In May 2019, graphic-design site Canva's datab...</td>\n",
       "    </tr>\n",
       "  </tbody>\n",
       "</table>\n",
       "</div>"
      ],
      "text/plain": [
       "               e-mail                  date     source  \\\n",
       "0  g.massov@gmail.com  2019-06-13T00:00:00Z  canva.com   \n",
       "\n",
       "                                         description  \n",
       "0  In May 2019, graphic-design site Canva's datab...  "
      ]
     },
     "execution_count": 35,
     "metadata": {},
     "output_type": "execute_result"
    }
   ],
   "source": [
    "check_breaches(EMAIL)"
   ]
  },
  {
   "cell_type": "code",
   "execution_count": null,
   "metadata": {},
   "outputs": [],
   "source": []
  },
  {
   "cell_type": "code",
   "execution_count": null,
   "metadata": {},
   "outputs": [],
   "source": []
  }
 ],
 "metadata": {
  "kernelspec": {
   "display_name": "Python 3",
   "language": "python",
   "name": "python3"
  },
  "language_info": {
   "codemirror_mode": {
    "name": "ipython",
    "version": 3
   },
   "file_extension": ".py",
   "mimetype": "text/x-python",
   "name": "python",
   "nbconvert_exporter": "python",
   "pygments_lexer": "ipython3",
   "version": "3.7.6"
  }
 },
 "nbformat": 4,
 "nbformat_minor": 4
}
