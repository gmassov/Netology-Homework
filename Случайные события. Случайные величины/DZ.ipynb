{
 "cells": [
  {
   "cell_type": "markdown",
   "metadata": {},
   "source": [
    "Домашнее задание к лекции.\n",
    "http://prntscr.com/uh35yg\n",
    "\n",
    "Смоделировать игру против лотерейного автомата типа “777”. Игрок платит 1 руб., после чего выпадает случайное целое число, равномерно распределенное от 0 до 999. При некоторых значениях числа игрок получает выигрыш (см. справа)\n",
    "\n",
    "Выгодна ли игра игроку?\n",
    "\n",
    "Сколько в среднем приобретает или теряет игрок за одну игру?\n",
    "\n",
    "777: 200 руб.\n",
    "999: 100 руб.\n",
    "555: 50 руб.\n",
    "333: 15 руб.\n",
    "111: 10 руб.\n",
    "*77: 5 руб.\n",
    "**7: 3 руб.\n",
    "*00: 2 руб.\n",
    "**0: 1 руб.\n",
    "звездочка – любая цифра"
   ]
  },
  {
   "cell_type": "code",
   "execution_count": 1,
   "metadata": {},
   "outputs": [],
   "source": [
    "import numpy as np"
   ]
  },
  {
   "cell_type": "code",
   "execution_count": 2,
   "metadata": {},
   "outputs": [
    {
     "name": "stdout",
     "output_type": "stream",
     "text": [
      "-250312\n",
      "0.008 0.102605\n",
      "-0.250312\n"
     ]
    }
   ],
   "source": [
    "np.random.seed(42)\n",
    "\n",
    "money = 0 \n",
    "trials = 1000000 \n",
    "success = 0 \n",
    "p = 8/1000 \n",
    "\n",
    "for i in range(trials):\n",
    "    money -= 1\n",
    "    number = np.random.randint(1000)\n",
    "    if number == 777:\n",
    "        success += 1\n",
    "        money += 200\n",
    "    elif number == 999:\n",
    "        success += 1\n",
    "        money += 100\n",
    "    elif number == 555:\n",
    "        success += 1\n",
    "        money += 50\n",
    "    elif number == 333:\n",
    "        success += 1\n",
    "        money += 15\n",
    "    elif number == 111:\n",
    "        success += 1\n",
    "        money += 10\n",
    "    elif number in range(177, 1000, 100):\n",
    "        success += 1\n",
    "        money += 5\n",
    "    elif number in range(107, 1000, 10):\n",
    "        success += 1\n",
    "        money += 3\n",
    "    elif number in range(100, 1000, 100):\n",
    "        success += 1\n",
    "        money += 2\n",
    "    elif number in range(110, 1000, 10):\n",
    "\n",
    "        money += 1    \n",
    "\n",
    "p_monte_carlo = success / trials      \n",
    "\n",
    "print(money) \n",
    "\n",
    "print(p, p_monte_carlo) \n",
    "\n",
    "print(money/trials) "
   ]
  },
  {
   "cell_type": "markdown",
   "metadata": {},
   "source": [
    "**Вывод**: игра не выгодна. Выигранные 75 копеек в среднем стоят один рубль"
   ]
  }
 ],
 "metadata": {
  "kernelspec": {
   "display_name": "Python 3",
   "language": "python",
   "name": "python3"
  },
  "language_info": {
   "codemirror_mode": {
    "name": "ipython",
    "version": 3
   },
   "file_extension": ".py",
   "mimetype": "text/x-python",
   "name": "python",
   "nbconvert_exporter": "python",
   "pygments_lexer": "ipython3",
   "version": "3.7.6"
  }
 },
 "nbformat": 4,
 "nbformat_minor": 4
}
